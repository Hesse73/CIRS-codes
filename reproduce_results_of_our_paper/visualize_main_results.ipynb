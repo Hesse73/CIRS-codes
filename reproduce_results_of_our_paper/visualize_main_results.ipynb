{
 "cells": [
  {
   "cell_type": "markdown",
   "source": [
    "This notebook provides a step-by-step guide to produce the main results of our paper."
   ],
   "metadata": {
    "collapsed": false
   }
  },
  {
   "cell_type": "markdown",
   "source": [
    "There are three steps to reproduce the results.\n",
    "1. Run the scripts to run the experiments to produce the log files for visualization.\n",
    "2. Copy the log files and paste them to certain directories for visualization.\n",
    "3. Visualization."
   ],
   "metadata": {
    "collapsed": false
   }
  },
  {
   "cell_type": "markdown",
   "source": [
    "For illustration, we have finished the first two steps. You can only run the third steps on the prepared log files to reproduce the results of our paper."
   ],
   "metadata": {
    "collapsed": false
   }
  },
  {
   "cell_type": "markdown",
   "source": [
    "### Step 1. Run the scripts.\n",
    "\n",
    "All parameters are all set for reproduce the results. We fix the random seed so that the results will not change each time on the same machine. However, the results can still vary with running on different machines.\n",
    "\n",
    "If you want to reproduce the results for yourself, please uncomment the following lines.\n",
    "Note: please revise the parameter ``--cuda'' and"
   ],
   "metadata": {
    "collapsed": false
   }
  },
  {
   "cell_type": "code",
   "execution_count": null,
   "outputs": [],
   "source": [],
   "metadata": {
    "collapsed": false
   }
  }
 ],
 "metadata": {
  "kernelspec": {
   "display_name": "Python 3",
   "language": "python",
   "name": "python3"
  },
  "language_info": {
   "codemirror_mode": {
    "name": "ipython",
    "version": 2
   },
   "file_extension": ".py",
   "mimetype": "text/x-python",
   "name": "python",
   "nbconvert_exporter": "python",
   "pygments_lexer": "ipython2",
   "version": "2.7.6"
  }
 },
 "nbformat": 4,
 "nbformat_minor": 0
}
